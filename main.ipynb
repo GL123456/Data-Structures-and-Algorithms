{
  "nbformat": 4,
  "nbformat_minor": 0,
  "metadata": {
    "colab": {
      "name": "main.ipynb",
      "provenance": [],
      "collapsed_sections": [],
      "toc_visible": true,
      "authorship_tag": "ABX9TyNGJn72lSJNRsggsXLG6K8Z",
      "include_colab_link": true
    },
    "kernelspec": {
      "name": "python3",
      "display_name": "Python 3"
    },
    "accelerator": "GPU"
  },
  "cells": [
    {
      "cell_type": "markdown",
      "metadata": {
        "id": "view-in-github",
        "colab_type": "text"
      },
      "source": [
        "<a href=\"https://colab.research.google.com/github/wxj630/Data-Structures-and-Algorithms/blob/master/main.ipynb\" target=\"_parent\"><img src=\"https://colab.research.google.com/assets/colab-badge.svg\" alt=\"Open In Colab\"/></a>"
      ]
    },
    {
      "cell_type": "code",
      "metadata": {
        "id": "Dthui7VaAbTt",
        "colab_type": "code",
        "colab": {}
      },
      "source": [
        ""
      ],
      "execution_count": 0,
      "outputs": []
    },
    {
      "cell_type": "code",
      "metadata": {
        "id": "WZCyWglOAokx",
        "colab_type": "code",
        "colab": {
          "base_uri": "https://localhost:8080/",
          "height": 122
        },
        "outputId": "1444242d-419d-4be3-b24a-be4e6db84344"
      },
      "source": [
        "from google.colab import drive\n",
        "drive.mount('/content/drive')"
      ],
      "execution_count": 1,
      "outputs": [
        {
          "output_type": "stream",
          "text": [
            "Go to this URL in a browser: https://accounts.google.com/o/oauth2/auth?client_id=947318989803-6bn6qk8qdgf4n4g3pfee6491hc0brc4i.apps.googleusercontent.com&redirect_uri=urn%3aietf%3awg%3aoauth%3a2.0%3aoob&response_type=code&scope=email%20https%3a%2f%2fwww.googleapis.com%2fauth%2fdocs.test%20https%3a%2f%2fwww.googleapis.com%2fauth%2fdrive%20https%3a%2f%2fwww.googleapis.com%2fauth%2fdrive.photos.readonly%20https%3a%2f%2fwww.googleapis.com%2fauth%2fpeopleapi.readonly\n",
            "\n",
            "Enter your authorization code:\n",
            "··········\n",
            "Mounted at /content/drive\n"
          ],
          "name": "stdout"
        }
      ]
    },
    {
      "cell_type": "code",
      "metadata": {
        "id": "3UtDiu5_Axcz",
        "colab_type": "code",
        "outputId": "e7bf6ec2-1ef3-4b0d-aeae-a57108e3441c",
        "colab": {
          "base_uri": "https://localhost:8080/",
          "height": 102
        }
      },
      "source": [
        "!git clone https://github.com/FakeNewsDetection/FakeBuster\n"
      ],
      "execution_count": 0,
      "outputs": [
        {
          "output_type": "stream",
          "text": [
            "Cloning into 'FakeBuster'...\n",
            "remote: Enumerating objects: 158, done.\u001b[K\n",
            "remote: Total 158 (delta 0), reused 0 (delta 0), pack-reused 158\u001b[K\n",
            "Receiving objects: 100% (158/158), 50.53 MiB | 10.58 MiB/s, done.\n",
            "Resolving deltas: 100% (80/80), done.\n"
          ],
          "name": "stdout"
        }
      ]
    },
    {
      "cell_type": "code",
      "metadata": {
        "id": "en3DWDxQBwA5",
        "colab_type": "code",
        "outputId": "65497e60-7877-4817-a0d5-9cf6f0804431",
        "colab": {
          "base_uri": "https://localhost:8080/",
          "height": 34
        }
      },
      "source": [
        "!ls"
      ],
      "execution_count": 2,
      "outputs": [
        {
          "output_type": "stream",
          "text": [
            "drive  sample_data\n"
          ],
          "name": "stdout"
        }
      ]
    },
    {
      "cell_type": "code",
      "metadata": {
        "id": "sYWdO9oAB18F",
        "colab_type": "code",
        "outputId": "43ca0862-a154-4ffe-db5f-7e02fcc7677e",
        "colab": {
          "base_uri": "https://localhost:8080/",
          "height": 34
        }
      },
      "source": [
        "cd drive/My Drive/FakeBuster"
      ],
      "execution_count": 3,
      "outputs": [
        {
          "output_type": "stream",
          "text": [
            "/content/drive/My Drive/FakeBuster\n"
          ],
          "name": "stdout"
        }
      ]
    },
    {
      "cell_type": "code",
      "metadata": {
        "id": "1bSYLm08B8R5",
        "colab_type": "code",
        "outputId": "6d729c74-afd2-4a78-8e96-72b4b14a4e0b",
        "colab": {
          "base_uri": "https://localhost:8080/",
          "height": 153
        }
      },
      "source": [
        "!ls"
      ],
      "execution_count": 4,
      "outputs": [
        {
          "output_type": "stream",
          "text": [
            " datasets\t\t    navie_bayes.png\t  xte.npy\n",
            "'Fake News Detection.pdf'   neural-net-keras.py   xte_shuffled.npy\n",
            " getEmbeddings.py\t    neural-net-tf.py\t  xtr.npy\n",
            " images\t\t\t    Presentation.pptx\t  xtr_shuffled.npy\n",
            " LSTM.py\t\t   'Project Report.pdf'   yte.npy\n",
            " model1.png\t\t    __pycache__\t\t  yte_shuffled.npy\n",
            " model2.png\t\t    README.md\t\t  ytr.npy\n",
            " naive-bayes.py\t\t    svm.py\t\t  ytr_shuffled.npy\n"
          ],
          "name": "stdout"
        }
      ]
    },
    {
      "cell_type": "code",
      "metadata": {
        "id": "xn70PKv5CN6q",
        "colab_type": "code",
        "outputId": "710d9208-4b11-4305-fa51-2e435d995914",
        "colab": {
          "base_uri": "https://localhost:8080/",
          "height": 292
        }
      },
      "source": [
        "!pip install scikit-plot"
      ],
      "execution_count": 5,
      "outputs": [
        {
          "output_type": "stream",
          "text": [
            "Collecting scikit-plot\n",
            "  Downloading https://files.pythonhosted.org/packages/7c/47/32520e259340c140a4ad27c1b97050dd3254fdc517b1d59974d47037510e/scikit_plot-0.3.7-py3-none-any.whl\n",
            "Requirement already satisfied: joblib>=0.10 in /usr/local/lib/python3.6/dist-packages (from scikit-plot) (0.14.1)\n",
            "Requirement already satisfied: matplotlib>=1.4.0 in /usr/local/lib/python3.6/dist-packages (from scikit-plot) (3.1.3)\n",
            "Requirement already satisfied: scipy>=0.9 in /usr/local/lib/python3.6/dist-packages (from scikit-plot) (1.4.1)\n",
            "Requirement already satisfied: scikit-learn>=0.18 in /usr/local/lib/python3.6/dist-packages (from scikit-plot) (0.22.1)\n",
            "Requirement already satisfied: kiwisolver>=1.0.1 in /usr/local/lib/python3.6/dist-packages (from matplotlib>=1.4.0->scikit-plot) (1.1.0)\n",
            "Requirement already satisfied: python-dateutil>=2.1 in /usr/local/lib/python3.6/dist-packages (from matplotlib>=1.4.0->scikit-plot) (2.6.1)\n",
            "Requirement already satisfied: pyparsing!=2.0.4,!=2.1.2,!=2.1.6,>=2.0.1 in /usr/local/lib/python3.6/dist-packages (from matplotlib>=1.4.0->scikit-plot) (2.4.6)\n",
            "Requirement already satisfied: numpy>=1.11 in /usr/local/lib/python3.6/dist-packages (from matplotlib>=1.4.0->scikit-plot) (1.17.5)\n",
            "Requirement already satisfied: cycler>=0.10 in /usr/local/lib/python3.6/dist-packages (from matplotlib>=1.4.0->scikit-plot) (0.10.0)\n",
            "Requirement already satisfied: setuptools in /usr/local/lib/python3.6/dist-packages (from kiwisolver>=1.0.1->matplotlib>=1.4.0->scikit-plot) (45.1.0)\n",
            "Requirement already satisfied: six>=1.5 in /usr/local/lib/python3.6/dist-packages (from python-dateutil>=2.1->matplotlib>=1.4.0->scikit-plot) (1.12.0)\n",
            "Installing collected packages: scikit-plot\n",
            "Successfully installed scikit-plot-0.3.7\n"
          ],
          "name": "stdout"
        }
      ]
    },
    {
      "cell_type": "code",
      "metadata": {
        "id": "kJZaHxeDDJJu",
        "colab_type": "code",
        "outputId": "8a519180-adc0-4c2b-bdfc-d26e675ef519",
        "colab": {
          "base_uri": "https://localhost:8080/",
          "height": 68
        }
      },
      "source": [
        "import nltk\n",
        "nltk.download('stopwords')"
      ],
      "execution_count": 6,
      "outputs": [
        {
          "output_type": "stream",
          "text": [
            "[nltk_data] Downloading package stopwords to /root/nltk_data...\n",
            "[nltk_data]   Unzipping corpora/stopwords.zip.\n"
          ],
          "name": "stdout"
        },
        {
          "output_type": "execute_result",
          "data": {
            "text/plain": [
              "True"
            ]
          },
          "metadata": {
            "tags": []
          },
          "execution_count": 6
        }
      ]
    },
    {
      "cell_type": "code",
      "metadata": {
        "id": "a5GT9ENNgCqn",
        "colab_type": "code",
        "colab": {}
      },
      "source": [
        ""
      ],
      "execution_count": 0,
      "outputs": []
    },
    {
      "cell_type": "code",
      "metadata": {
        "id": "OAiwOJtPB_N1",
        "colab_type": "code",
        "outputId": "28a26b01-7040-4d8a-c855-27727a1a41c7",
        "colab": {
          "base_uri": "https://localhost:8080/",
          "height": 105
        }
      },
      "source": [
        "!python naive-bayes.py"
      ],
      "execution_count": 0,
      "outputs": [
        {
          "output_type": "stream",
          "text": [
            "Accuracy = 71.01%\n",
            "/usr/local/lib/python3.6/dist-packages/sklearn/utils/deprecation.py:87: FutureWarning: Function plot_confusion_matrix is deprecated; This will be removed in v0.4.0. Please use scikitplot.metrics.plot_confusion_matrix instead.\n",
            "  warnings.warn(msg, category=FutureWarning)\n",
            "<Figure size 640x480 with 2 Axes>\n"
          ],
          "name": "stdout"
        }
      ]
    },
    {
      "cell_type": "markdown",
      "metadata": {
        "id": "4djyfe_JiKr5",
        "colab_type": "text"
      },
      "source": [
        "# 文本可视化\n"
      ]
    },
    {
      "cell_type": "code",
      "metadata": {
        "id": "TQ3eAC9viQbD",
        "colab_type": "code",
        "colab": {}
      },
      "source": [
        "import pandas as pd\n",
        "import numpy as np\n",
        "import matplotlib.pyplot as plt"
      ],
      "execution_count": 0,
      "outputs": []
    },
    {
      "cell_type": "code",
      "metadata": {
        "id": "9CGlIMr5pSRX",
        "colab_type": "code",
        "colab": {}
      },
      "source": [
        "train=pd.read_csv(\"datasets/train.csv\")"
      ],
      "execution_count": 0,
      "outputs": []
    },
    {
      "cell_type": "code",
      "metadata": {
        "id": "bjEZP7qPpeow",
        "colab_type": "code",
        "outputId": "95be50eb-3036-4f53-ea01-b426e7fdd89d",
        "colab": {
          "base_uri": "https://localhost:8080/",
          "height": 221
        }
      },
      "source": [
        "train.head()"
      ],
      "execution_count": 9,
      "outputs": [
        {
          "output_type": "execute_result",
          "data": {
            "text/html": [
              "<div>\n",
              "<style scoped>\n",
              "    .dataframe tbody tr th:only-of-type {\n",
              "        vertical-align: middle;\n",
              "    }\n",
              "\n",
              "    .dataframe tbody tr th {\n",
              "        vertical-align: top;\n",
              "    }\n",
              "\n",
              "    .dataframe thead th {\n",
              "        text-align: right;\n",
              "    }\n",
              "</style>\n",
              "<table border=\"1\" class=\"dataframe\">\n",
              "  <thead>\n",
              "    <tr style=\"text-align: right;\">\n",
              "      <th></th>\n",
              "      <th>id</th>\n",
              "      <th>title</th>\n",
              "      <th>author</th>\n",
              "      <th>text</th>\n",
              "      <th>label</th>\n",
              "    </tr>\n",
              "  </thead>\n",
              "  <tbody>\n",
              "    <tr>\n",
              "      <th>0</th>\n",
              "      <td>0</td>\n",
              "      <td>House Dem Aide: We Didn’t Even See Comey’s Let...</td>\n",
              "      <td>Darrell Lucus</td>\n",
              "      <td>House Dem Aide: We Didn’t Even See Comey’s Let...</td>\n",
              "      <td>1</td>\n",
              "    </tr>\n",
              "    <tr>\n",
              "      <th>1</th>\n",
              "      <td>1</td>\n",
              "      <td>FLYNN: Hillary Clinton, Big Woman on Campus - ...</td>\n",
              "      <td>Daniel J. Flynn</td>\n",
              "      <td>Ever get the feeling your life circles the rou...</td>\n",
              "      <td>0</td>\n",
              "    </tr>\n",
              "    <tr>\n",
              "      <th>2</th>\n",
              "      <td>2</td>\n",
              "      <td>Why the Truth Might Get You Fired</td>\n",
              "      <td>Consortiumnews.com</td>\n",
              "      <td>Why the Truth Might Get You Fired October 29, ...</td>\n",
              "      <td>1</td>\n",
              "    </tr>\n",
              "    <tr>\n",
              "      <th>3</th>\n",
              "      <td>3</td>\n",
              "      <td>15 Civilians Killed In Single US Airstrike Hav...</td>\n",
              "      <td>Jessica Purkiss</td>\n",
              "      <td>Videos 15 Civilians Killed In Single US Airstr...</td>\n",
              "      <td>1</td>\n",
              "    </tr>\n",
              "    <tr>\n",
              "      <th>4</th>\n",
              "      <td>4</td>\n",
              "      <td>Iranian woman jailed for fictional unpublished...</td>\n",
              "      <td>Howard Portnoy</td>\n",
              "      <td>Print \\nAn Iranian woman has been sentenced to...</td>\n",
              "      <td>1</td>\n",
              "    </tr>\n",
              "  </tbody>\n",
              "</table>\n",
              "</div>"
            ],
            "text/plain": [
              "   id  ... label\n",
              "0   0  ...     1\n",
              "1   1  ...     0\n",
              "2   2  ...     1\n",
              "3   3  ...     1\n",
              "4   4  ...     1\n",
              "\n",
              "[5 rows x 5 columns]"
            ]
          },
          "metadata": {
            "tags": []
          },
          "execution_count": 9
        }
      ]
    },
    {
      "cell_type": "code",
      "metadata": {
        "id": "Bkn9miOXpixd",
        "colab_type": "code",
        "outputId": "a0c016ab-085b-4996-9a92-f183d3057417",
        "colab": {
          "base_uri": "https://localhost:8080/",
          "height": 187
        }
      },
      "source": [
        "train.info()"
      ],
      "execution_count": 10,
      "outputs": [
        {
          "output_type": "stream",
          "text": [
            "<class 'pandas.core.frame.DataFrame'>\n",
            "RangeIndex: 20800 entries, 0 to 20799\n",
            "Data columns (total 5 columns):\n",
            "id        20800 non-null int64\n",
            "title     20242 non-null object\n",
            "author    18843 non-null object\n",
            "text      20761 non-null object\n",
            "label     20800 non-null int64\n",
            "dtypes: int64(2), object(3)\n",
            "memory usage: 812.6+ KB\n"
          ],
          "name": "stdout"
        }
      ]
    },
    {
      "cell_type": "code",
      "metadata": {
        "id": "UjUDjPdtr0RF",
        "colab_type": "code",
        "outputId": "a5e7c862-55e4-4edd-8839-8c175df879fb",
        "colab": {
          "base_uri": "https://localhost:8080/",
          "height": 68
        }
      },
      "source": [
        "train['label'].value_counts()"
      ],
      "execution_count": 11,
      "outputs": [
        {
          "output_type": "execute_result",
          "data": {
            "text/plain": [
              "1    10413\n",
              "0    10387\n",
              "Name: label, dtype: int64"
            ]
          },
          "metadata": {
            "tags": []
          },
          "execution_count": 11
        }
      ]
    },
    {
      "cell_type": "code",
      "metadata": {
        "id": "nvm8AzSgr31S",
        "colab_type": "code",
        "colab": {
          "base_uri": "https://localhost:8080/",
          "height": 238
        },
        "outputId": "92aca938-50f9-47ff-fe6c-36e4c47bd5f1"
      },
      "source": [
        "test=pd.read_csv(\"datasets/test.csv\")\n",
        "test.head()"
      ],
      "execution_count": 12,
      "outputs": [
        {
          "output_type": "execute_result",
          "data": {
            "text/html": [
              "<div>\n",
              "<style scoped>\n",
              "    .dataframe tbody tr th:only-of-type {\n",
              "        vertical-align: middle;\n",
              "    }\n",
              "\n",
              "    .dataframe tbody tr th {\n",
              "        vertical-align: top;\n",
              "    }\n",
              "\n",
              "    .dataframe thead th {\n",
              "        text-align: right;\n",
              "    }\n",
              "</style>\n",
              "<table border=\"1\" class=\"dataframe\">\n",
              "  <thead>\n",
              "    <tr style=\"text-align: right;\">\n",
              "      <th></th>\n",
              "      <th>id</th>\n",
              "      <th>title</th>\n",
              "      <th>author</th>\n",
              "      <th>text</th>\n",
              "    </tr>\n",
              "  </thead>\n",
              "  <tbody>\n",
              "    <tr>\n",
              "      <th>0</th>\n",
              "      <td>20800</td>\n",
              "      <td>Specter of Trump Loosens Tongues, if Not Purse...</td>\n",
              "      <td>David Streitfeld</td>\n",
              "      <td>PALO ALTO, Calif.  —   After years of scorning...</td>\n",
              "    </tr>\n",
              "    <tr>\n",
              "      <th>1</th>\n",
              "      <td>20801</td>\n",
              "      <td>Russian warships ready to strike terrorists ne...</td>\n",
              "      <td>NaN</td>\n",
              "      <td>Russian warships ready to strike terrorists ne...</td>\n",
              "    </tr>\n",
              "    <tr>\n",
              "      <th>2</th>\n",
              "      <td>20802</td>\n",
              "      <td>#NoDAPL: Native American Leaders Vow to Stay A...</td>\n",
              "      <td>Common Dreams</td>\n",
              "      <td>Videos #NoDAPL: Native American Leaders Vow to...</td>\n",
              "    </tr>\n",
              "    <tr>\n",
              "      <th>3</th>\n",
              "      <td>20803</td>\n",
              "      <td>Tim Tebow Will Attempt Another Comeback, This ...</td>\n",
              "      <td>Daniel Victor</td>\n",
              "      <td>If at first you don’t succeed, try a different...</td>\n",
              "    </tr>\n",
              "    <tr>\n",
              "      <th>4</th>\n",
              "      <td>20804</td>\n",
              "      <td>Keiser Report: Meme Wars (E995)</td>\n",
              "      <td>Truth Broadcast Network</td>\n",
              "      <td>42 mins ago 1 Views 0 Comments 0 Likes 'For th...</td>\n",
              "    </tr>\n",
              "  </tbody>\n",
              "</table>\n",
              "</div>"
            ],
            "text/plain": [
              "      id  ...                                               text\n",
              "0  20800  ...  PALO ALTO, Calif.  —   After years of scorning...\n",
              "1  20801  ...  Russian warships ready to strike terrorists ne...\n",
              "2  20802  ...  Videos #NoDAPL: Native American Leaders Vow to...\n",
              "3  20803  ...  If at first you don’t succeed, try a different...\n",
              "4  20804  ...  42 mins ago 1 Views 0 Comments 0 Likes 'For th...\n",
              "\n",
              "[5 rows x 4 columns]"
            ]
          },
          "metadata": {
            "tags": []
          },
          "execution_count": 12
        }
      ]
    },
    {
      "cell_type": "code",
      "metadata": {
        "id": "nY1xUlU5sT9V",
        "colab_type": "code",
        "colab": {
          "base_uri": "https://localhost:8080/",
          "height": 170
        },
        "outputId": "f279dd79-2a61-4369-e178-417f4f75f5f5"
      },
      "source": [
        "test.info()"
      ],
      "execution_count": 13,
      "outputs": [
        {
          "output_type": "stream",
          "text": [
            "<class 'pandas.core.frame.DataFrame'>\n",
            "RangeIndex: 5200 entries, 0 to 5199\n",
            "Data columns (total 4 columns):\n",
            "id        5200 non-null int64\n",
            "title     5078 non-null object\n",
            "author    4697 non-null object\n",
            "text      5193 non-null object\n",
            "dtypes: int64(1), object(3)\n",
            "memory usage: 162.6+ KB\n"
          ],
          "name": "stdout"
        }
      ]
    },
    {
      "cell_type": "markdown",
      "metadata": {
        "id": "PFHDXO--iQy7",
        "colab_type": "text"
      },
      "source": [
        "# Naive Bayes"
      ]
    },
    {
      "cell_type": "code",
      "metadata": {
        "id": "fjkDLqSGhDkb",
        "colab_type": "code",
        "outputId": "84cd39a5-8e3d-467c-d0ba-b4d3724b59cf",
        "colab": {
          "base_uri": "https://localhost:8080/",
          "height": 34
        }
      },
      "source": [
        "from getEmbeddings import getEmbeddings\n",
        "from sklearn.naive_bayes import GaussianNB\n",
        "import numpy as np\n",
        "import matplotlib.pyplot as plt\n",
        "import scikitplot.plotters as skplt\n",
        "import os\n",
        "\n",
        "\n",
        "def plot_cmat(yte, ypred):\n",
        "    '''Plotting confusion matrix'''\n",
        "    skplt.plot_confusion_matrix(yte,ypred)\n",
        "    plt.show()\n",
        "    plt.savefig(\"navie_bayes.png\")\n",
        "\n",
        "# Read the data\n",
        "if not os.path.isfile('./xtr.npy') or \\\n",
        "    not os.path.isfile('./xte.npy') or \\\n",
        "    not os.path.isfile('./ytr.npy') or \\\n",
        "    not os.path.isfile('./yte.npy'):\n",
        "    xtr,xte,ytr,yte = getEmbeddings(\"datasets/train.csv\")\n",
        "    np.save('./xtr', xtr)\n",
        "    np.save('./xte', xte)\n",
        "    np.save('./ytr', ytr)\n",
        "    np.save('./yte', yte)\n",
        "\n",
        "xtr = np.load('./xtr.npy')\n",
        "xte = np.load('./xte.npy')\n",
        "ytr = np.load('./ytr.npy')\n",
        "yte = np.load('./yte.npy')\n",
        "\n",
        "# Use the built-in Naive Bayes classifier\n",
        "gnb = GaussianNB()\n",
        "gnb.fit(xtr,ytr)\n",
        "y_pred = gnb.predict(xte)\n",
        "m = yte.shape[0]\n",
        "n = (yte != y_pred).sum()\n",
        "print(\"Accuracy = \" + format((m-n)/m*100, '.2f') + \"%\")   # 72.94%\n"
      ],
      "execution_count": 0,
      "outputs": [
        {
          "output_type": "stream",
          "text": [
            "Accuracy = 71.01%\n"
          ],
          "name": "stdout"
        }
      ]
    },
    {
      "cell_type": "code",
      "metadata": {
        "id": "hD8zNHRIhJFM",
        "colab_type": "code",
        "outputId": "0e8d5f33-99db-43b9-c829-6e5bc6e90e7f",
        "colab": {
          "base_uri": "https://localhost:8080/",
          "height": 366
        }
      },
      "source": [
        "# Draw the confusion matrix\n",
        "plot_cmat(yte, y_pred)"
      ],
      "execution_count": 0,
      "outputs": [
        {
          "output_type": "stream",
          "text": [
            "/usr/local/lib/python3.6/dist-packages/sklearn/utils/deprecation.py:87: FutureWarning: Function plot_confusion_matrix is deprecated; This will be removed in v0.4.0. Please use scikitplot.metrics.plot_confusion_matrix instead.\n",
            "  warnings.warn(msg, category=FutureWarning)\n"
          ],
          "name": "stderr"
        },
        {
          "output_type": "display_data",
          "data": {
            "image/png": "[encoded data removed]",
            "text/plain": [
              "<Figure size 432x288 with 2 Axes>"
            ]
          },
          "metadata": {
            "tags": []
          }
        },
        {
          "output_type": "display_data",
          "data": {
            "text/plain": [
              "<Figure size 432x288 with 0 Axes>"
            ]
          },
          "metadata": {
            "tags": []
          }
        }
      ]
    },
    {
      "cell_type": "markdown",
      "metadata": {
        "id": "ZkWEDy5ko_2P",
        "colab_type": "text"
      },
      "source": [
        "# SVM\n"
      ]
    },
    {
      "cell_type": "code",
      "metadata": {
        "id": "8qz3I_uOpJFX",
        "colab_type": "code",
        "outputId": "6669b472-1abb-4a9d-c30a-73c8c4dfd36b",
        "colab": {
          "base_uri": "https://localhost:8080/",
          "height": 34
        }
      },
      "source": [
        "from getEmbeddings import getEmbeddings\n",
        "import numpy as np\n",
        "from sklearn.svm import SVC\n",
        "import matplotlib.pyplot as plt\n",
        "import scikitplot.plotters as skplt\n",
        "import os\n",
        "\n",
        "\n",
        "def plot_cmat(yte, ypred):\n",
        "    '''Plotting confusion matrix'''\n",
        "    skplt.plot_confusion_matrix(yte,ypred)\n",
        "    plt.show()\n",
        "\n",
        "# Read the data\n",
        "if not os.path.isfile('./xtr.npy') or \\\n",
        "    not os.path.isfile('./xte.npy') or \\\n",
        "    not os.path.isfile('./ytr.npy') or \\\n",
        "    not os.path.isfile('./yte.npy'):\n",
        "    xtr,xte,ytr,yte = getEmbeddings(\"datasets/train.csv\")\n",
        "    np.save('./xtr', xtr)\n",
        "    np.save('./xte', xte)\n",
        "    np.save('./ytr', ytr)\n",
        "    np.save('./yte', yte)\n",
        "\n",
        "xtr = np.load('./xtr.npy')\n",
        "xte = np.load('./xte.npy')\n",
        "ytr = np.load('./ytr.npy')\n",
        "yte = np.load('./yte.npy')\n",
        "\n",
        "# Use the built-in SVM for classification\n",
        "clf = SVC()\n",
        "clf.fit(xtr, ytr)\n",
        "y_pred = clf.predict(xte)\n",
        "m = yte.shape[0]\n",
        "n = (yte != y_pred).sum()\n",
        "print(\"Accuracy = \" + format((m-n)/m*100, '.2f') + \"%\")   # 88.42%\n",
        "\n"
      ],
      "execution_count": 0,
      "outputs": [
        {
          "output_type": "stream",
          "text": [
            "Accuracy = 91.28%\n"
          ],
          "name": "stdout"
        }
      ]
    },
    {
      "cell_type": "code",
      "metadata": {
        "id": "73OfHk0mpTdB",
        "colab_type": "code",
        "outputId": "0c22ab8a-ccf6-4b32-dfd2-1d9c8b4e7491",
        "colab": {
          "base_uri": "https://localhost:8080/",
          "height": 349
        }
      },
      "source": [
        "# Draw the confusion matrix\n",
        "plot_cmat(yte, y_pred)"
      ],
      "execution_count": 0,
      "outputs": [
        {
          "output_type": "stream",
          "text": [
            "/usr/local/lib/python3.6/dist-packages/sklearn/utils/deprecation.py:87: FutureWarning: Function plot_confusion_matrix is deprecated; This will be removed in v0.4.0. Please use scikitplot.metrics.plot_confusion_matrix instead.\n",
            "  warnings.warn(msg, category=FutureWarning)\n"
          ],
          "name": "stderr"
        },
        {
          "output_type": "display_data",
          "data": {
            "image/png": "[encoded data removed]",
            "text/plain": [
              "<Figure size 432x288 with 2 Axes>"
            ]
          },
          "metadata": {
            "tags": []
          }
        }
      ]
    },
    {
      "cell_type": "markdown",
      "metadata": {
        "id": "1aF4dEn9peSq",
        "colab_type": "text"
      },
      "source": [
        "# Neural Network"
      ]
    },
    {
      "cell_type": "code",
      "metadata": {
        "id": "aS9_LSJWponm",
        "colab_type": "code",
        "outputId": "ff743e1f-2870-43f6-9431-b02e44ad52d9",
        "colab": {
          "base_uri": "https://localhost:8080/",
          "height": 1000
        }
      },
      "source": [
        "from getEmbeddings import getEmbeddings\n",
        "import matplotlib.pyplot as plt\n",
        "import numpy as np\n",
        "import keras\n",
        "from keras import backend as K\n",
        "from keras.utils import np_utils\n",
        "from keras.models import Sequential\n",
        "from keras.layers import Dense, Dropout, LSTM, Embedding, Input, RepeatVector\n",
        "from keras.optimizers import SGD\n",
        "from sklearn.preprocessing import LabelEncoder\n",
        "from sklearn.model_selection import train_test_split\n",
        "import scikitplot.plotters as skplt\n",
        "import os\n",
        "\n",
        "\n",
        "def plot_cmat(yte, ypred):\n",
        "    '''Plotting confusion matrix'''\n",
        "    skplt.plot_confusion_matrix(yte, ypred)\n",
        "    plt.show()\n",
        "\n",
        "# Read the data\n",
        "if not os.path.isfile('./xtr.npy') or \\\n",
        "    not os.path.isfile('./xte.npy') or \\\n",
        "    not os.path.isfile('./ytr.npy') or \\\n",
        "    not os.path.isfile('./yte.npy'):\n",
        "    xtr,xte,ytr,yte = getEmbeddings(\"datasets/train.csv\")\n",
        "    np.save('./xtr', xtr)\n",
        "    np.save('./xte', xte)\n",
        "    np.save('./ytr', ytr)\n",
        "    np.save('./yte', yte)\n",
        "\n",
        "xtr = np.load('./xtr.npy')\n",
        "xte = np.load('./xte.npy')\n",
        "ytr = np.load('./ytr.npy')\n",
        "yte = np.load('./yte.npy')\n",
        "\n",
        "\n",
        "def baseline_model():\n",
        "    '''Neural network with 3 hidden layers'''\n",
        "    model = Sequential()\n",
        "    model.add(Dense(256, input_dim=300, activation='relu', kernel_initializer='normal'))\n",
        "    model.add(Dropout(0.3))\n",
        "    model.add(Dense(256, activation='relu', kernel_initializer='normal'))\n",
        "    model.add(Dropout(0.5))\n",
        "    model.add(Dense(80, activation='relu', kernel_initializer='normal'))\n",
        "    model.add(Dense(2, activation=\"softmax\", kernel_initializer='normal'))\n",
        "\n",
        "    # gradient descent\n",
        "    sgd = SGD(lr=0.01, decay=1e-6, momentum=0.9, nesterov=True)\n",
        "    \n",
        "    # configure the learning process of the model\n",
        "    model.compile(loss='categorical_crossentropy', optimizer=sgd, metrics=['accuracy'])\n",
        "    return model\n",
        "\n",
        "# Train the model\n",
        "model = baseline_model()\n",
        "model.summary()\n",
        "x_train, x_test, y_train, y_test = train_test_split(xtr, ytr, test_size=0.2, random_state=42)\n",
        "label_encoder = LabelEncoder()\n",
        "label_encoder.fit(y_train)\n",
        "encoded_y = np_utils.to_categorical((label_encoder.transform(y_train)))\n",
        "label_encoder.fit(y_test)\n",
        "encoded_y_test = np_utils.to_categorical((label_encoder.transform(y_test)))\n",
        "estimator = model.fit(x_train, encoded_y, epochs=20, batch_size=64)\n",
        "print(\"Model Trained!\")\n",
        "score = model.evaluate(x_test, encoded_y_test)\n",
        "print(\"\")\n",
        "print(\"Accuracy = \" + format(score[1]*100, '.2f') + \"%\")   # 92.69%\n",
        "\n",
        "probabs = model.predict_proba(x_test)\n",
        "y_pred = np.argmax(probabs, axis=1)\n",
        " "
      ],
      "execution_count": 0,
      "outputs": [
        {
          "output_type": "stream",
          "text": [
            "Using TensorFlow backend.\n"
          ],
          "name": "stderr"
        },
        {
          "output_type": "display_data",
          "data": {
            "text/html": [
              "<p style=\"color: red;\">\n",
              "The default version of TensorFlow in Colab will soon switch to TensorFlow 2.x.<br>\n",
              "We recommend you <a href=\"https://www.tensorflow.org/guide/migrate\" target=\"_blank\">upgrade</a> now \n",
              "or ensure your notebook will continue to use TensorFlow 1.x via the <code>%tensorflow_version 1.x</code> magic:\n",
              "<a href=\"https://colab.research.google.com/notebooks/tensorflow_version.ipynb\" target=\"_blank\">more info</a>.</p>\n"
            ],
            "text/plain": [
              "<IPython.core.display.HTML object>"
            ]
          },
          "metadata": {
            "tags": []
          }
        },
        {
          "output_type": "stream",
          "text": [
            "WARNING:tensorflow:From /usr/local/lib/python3.6/dist-packages/keras/backend/tensorflow_backend.py:66: The name tf.get_default_graph is deprecated. Please use tf.compat.v1.get_default_graph instead.\n",
            "\n",
            "WARNING:tensorflow:From /usr/local/lib/python3.6/dist-packages/keras/backend/tensorflow_backend.py:541: The name tf.placeholder is deprecated. Please use tf.compat.v1.placeholder instead.\n",
            "\n",
            "WARNING:tensorflow:From /usr/local/lib/python3.6/dist-packages/keras/backend/tensorflow_backend.py:4409: The name tf.random_normal is deprecated. Please use tf.random.normal instead.\n",
            "\n",
            "WARNING:tensorflow:From /usr/local/lib/python3.6/dist-packages/keras/backend/tensorflow_backend.py:148: The name tf.placeholder_with_default is deprecated. Please use tf.compat.v1.placeholder_with_default instead.\n",
            "\n",
            "WARNING:tensorflow:From /usr/local/lib/python3.6/dist-packages/keras/backend/tensorflow_backend.py:3733: calling dropout (from tensorflow.python.ops.nn_ops) with keep_prob is deprecated and will be removed in a future version.\n",
            "Instructions for updating:\n",
            "Please use `rate` instead of `keep_prob`. Rate should be set to `rate = 1 - keep_prob`.\n",
            "WARNING:tensorflow:From /usr/local/lib/python3.6/dist-packages/keras/optimizers.py:793: The name tf.train.Optimizer is deprecated. Please use tf.compat.v1.train.Optimizer instead.\n",
            "\n",
            "WARNING:tensorflow:From /usr/local/lib/python3.6/dist-packages/keras/backend/tensorflow_backend.py:3576: The name tf.log is deprecated. Please use tf.math.log instead.\n",
            "\n",
            "Model: \"sequential_1\"\n",
            "_________________________________________________________________\n",
            "Layer (type)                 Output Shape              Param #   \n",
            "=================================================================\n",
            "dense_1 (Dense)              (None, 256)               77056     \n",
            "_________________________________________________________________\n",
            "dropout_1 (Dropout)          (None, 256)               0         \n",
            "_________________________________________________________________\n",
            "dense_2 (Dense)              (None, 256)               65792     \n",
            "_________________________________________________________________\n",
            "dropout_2 (Dropout)          (None, 256)               0         \n",
            "_________________________________________________________________\n",
            "dense_3 (Dense)              (None, 80)                20560     \n",
            "_________________________________________________________________\n",
            "dense_4 (Dense)              (None, 2)                 162       \n",
            "=================================================================\n",
            "Total params: 163,570\n",
            "Trainable params: 163,570\n",
            "Non-trainable params: 0\n",
            "_________________________________________________________________\n",
            "WARNING:tensorflow:From /usr/local/lib/python3.6/dist-packages/tensorflow_core/python/ops/math_grad.py:1424: where (from tensorflow.python.ops.array_ops) is deprecated and will be removed in a future version.\n",
            "Instructions for updating:\n",
            "Use tf.where in 2.0, which has the same broadcast rule as np.where\n",
            "WARNING:tensorflow:From /usr/local/lib/python3.6/dist-packages/keras/backend/tensorflow_backend.py:1033: The name tf.assign_add is deprecated. Please use tf.compat.v1.assign_add instead.\n",
            "\n",
            "WARNING:tensorflow:From /usr/local/lib/python3.6/dist-packages/keras/backend/tensorflow_backend.py:1020: The name tf.assign is deprecated. Please use tf.compat.v1.assign instead.\n",
            "\n",
            "WARNING:tensorflow:From /usr/local/lib/python3.6/dist-packages/keras/backend/tensorflow_backend.py:3005: The name tf.Session is deprecated. Please use tf.compat.v1.Session instead.\n",
            "\n",
            "Epoch 1/20\n",
            "WARNING:tensorflow:From /usr/local/lib/python3.6/dist-packages/keras/backend/tensorflow_backend.py:190: The name tf.get_default_session is deprecated. Please use tf.compat.v1.get_default_session instead.\n",
            "\n",
            "WARNING:tensorflow:From /usr/local/lib/python3.6/dist-packages/keras/backend/tensorflow_backend.py:197: The name tf.ConfigProto is deprecated. Please use tf.compat.v1.ConfigProto instead.\n",
            "\n",
            "WARNING:tensorflow:From /usr/local/lib/python3.6/dist-packages/keras/backend/tensorflow_backend.py:207: The name tf.global_variables is deprecated. Please use tf.compat.v1.global_variables instead.\n",
            "\n",
            "WARNING:tensorflow:From /usr/local/lib/python3.6/dist-packages/keras/backend/tensorflow_backend.py:216: The name tf.is_variable_initialized is deprecated. Please use tf.compat.v1.is_variable_initialized instead.\n",
            "\n",
            "WARNING:tensorflow:From /usr/local/lib/python3.6/dist-packages/keras/backend/tensorflow_backend.py:223: The name tf.variables_initializer is deprecated. Please use tf.compat.v1.variables_initializer instead.\n",
            "\n",
            "13286/13286 [==============================] - 11s 835us/step - loss: 0.4823 - acc: 0.7725\n",
            "Epoch 2/20\n",
            "13286/13286 [==============================] - 1s 56us/step - loss: 0.2885 - acc: 0.8844\n",
            "Epoch 3/20\n",
            "13286/13286 [==============================] - 1s 54us/step - loss: 0.2589 - acc: 0.8971\n",
            "Epoch 4/20\n",
            "13286/13286 [==============================] - 1s 54us/step - loss: 0.2397 - acc: 0.9039\n",
            "Epoch 5/20\n",
            "13286/13286 [==============================] - 1s 56us/step - loss: 0.2255 - acc: 0.9115\n",
            "Epoch 6/20\n",
            "13286/13286 [==============================] - 1s 55us/step - loss: 0.2107 - acc: 0.9162\n",
            "Epoch 7/20\n",
            "13286/13286 [==============================] - 1s 54us/step - loss: 0.1999 - acc: 0.9224\n",
            "Epoch 8/20\n",
            "13286/13286 [==============================] - 1s 54us/step - loss: 0.1940 - acc: 0.9222\n",
            "Epoch 9/20\n",
            "13286/13286 [==============================] - 1s 54us/step - loss: 0.1865 - acc: 0.9261\n",
            "Epoch 10/20\n",
            "13286/13286 [==============================] - 1s 57us/step - loss: 0.1741 - acc: 0.9336\n",
            "Epoch 11/20\n",
            "13286/13286 [==============================] - 1s 55us/step - loss: 0.1684 - acc: 0.9341\n",
            "Epoch 12/20\n",
            "13286/13286 [==============================] - 1s 54us/step - loss: 0.1674 - acc: 0.9324\n",
            "Epoch 13/20\n",
            "13286/13286 [==============================] - 1s 56us/step - loss: 0.1545 - acc: 0.9416\n",
            "Epoch 14/20\n",
            "13286/13286 [==============================] - 1s 56us/step - loss: 0.1490 - acc: 0.9426\n",
            "Epoch 15/20\n",
            "13286/13286 [==============================] - 1s 57us/step - loss: 0.1442 - acc: 0.9437\n",
            "Epoch 16/20\n",
            "13286/13286 [==============================] - 1s 54us/step - loss: 0.1372 - acc: 0.9457\n",
            "Epoch 17/20\n",
            "13286/13286 [==============================] - 1s 54us/step - loss: 0.1334 - acc: 0.9479\n",
            "Epoch 18/20\n",
            "13286/13286 [==============================] - 1s 56us/step - loss: 0.1254 - acc: 0.9529\n",
            "Epoch 19/20\n",
            "13286/13286 [==============================] - 1s 56us/step - loss: 0.1209 - acc: 0.9541\n",
            "Epoch 20/20\n",
            "13286/13286 [==============================] - 1s 55us/step - loss: 0.1187 - acc: 0.9539\n",
            "Model Trained!\n",
            "3322/3322 [==============================] - 0s 49us/step\n",
            "\n",
            "Accuracy = 92.20%\n"
          ],
          "name": "stdout"
        }
      ]
    },
    {
      "cell_type": "code",
      "metadata": {
        "id": "sn-fSrAnp5mU",
        "colab_type": "code",
        "outputId": "ebf7f0c6-96b3-41c5-b4db-e56d2bdacdf3",
        "colab": {
          "base_uri": "https://localhost:8080/",
          "height": 349
        }
      },
      "source": [
        "# Draw the confusion matrix\n",
        "plot_cmat(y_test, y_pred)"
      ],
      "execution_count": 0,
      "outputs": [
        {
          "output_type": "stream",
          "text": [
            "/usr/local/lib/python3.6/dist-packages/sklearn/utils/deprecation.py:87: FutureWarning: Function plot_confusion_matrix is deprecated; This will be removed in v0.4.0. Please use scikitplot.metrics.plot_confusion_matrix instead.\n",
            "  warnings.warn(msg, category=FutureWarning)\n"
          ],
          "name": "stderr"
        },
        {
          "output_type": "display_data",
          "data": {
            "image/png": "[encoded data removed]",
            "text/plain": [
              "<Figure size 432x288 with 2 Axes>"
            ]
          },
          "metadata": {
            "tags": []
          }
        }
      ]
    },
    {
      "cell_type": "code",
      "metadata": {
        "id": "0ntaqdl4qPsX",
        "colab_type": "code",
        "outputId": "a09a55ac-537e-4eda-fdf6-c4277d44652f",
        "colab": {
          "base_uri": "https://localhost:8080/",
          "height": 357
        }
      },
      "source": [
        "model.summary()"
      ],
      "execution_count": 0,
      "outputs": [
        {
          "output_type": "stream",
          "text": [
            "Model: \"sequential_1\"\n",
            "_________________________________________________________________\n",
            "Layer (type)                 Output Shape              Param #   \n",
            "=================================================================\n",
            "dense_1 (Dense)              (None, 256)               77056     \n",
            "_________________________________________________________________\n",
            "dropout_1 (Dropout)          (None, 256)               0         \n",
            "_________________________________________________________________\n",
            "dense_2 (Dense)              (None, 256)               65792     \n",
            "_________________________________________________________________\n",
            "dropout_2 (Dropout)          (None, 256)               0         \n",
            "_________________________________________________________________\n",
            "dense_3 (Dense)              (None, 80)                20560     \n",
            "_________________________________________________________________\n",
            "dense_4 (Dense)              (None, 2)                 162       \n",
            "=================================================================\n",
            "Total params: 163,570\n",
            "Trainable params: 163,570\n",
            "Non-trainable params: 0\n",
            "_________________________________________________________________\n"
          ],
          "name": "stdout"
        }
      ]
    },
    {
      "cell_type": "code",
      "metadata": {
        "id": "pycE-heVqupF",
        "colab_type": "code",
        "outputId": "3e77d235-3277-4735-ea46-d22c3c548c66",
        "colab": {
          "base_uri": "https://localhost:8080/",
          "height": 754
        }
      },
      "source": [
        "from keras.utils.vis_utils import plot_model\n",
        "plot_model(model, to_file='model1.png',show_shapes=True)"
      ],
      "execution_count": 0,
      "outputs": [
        {
          "output_type": "execute_result",
          "data": {
            "image/png": "[encoded data removed]",
            "text/plain": [
              "<IPython.core.display.Image object>"
            ]
          },
          "metadata": {
            "tags": []
          },
          "execution_count": 18
        }
      ]
    },
    {
      "cell_type": "markdown",
      "metadata": {
        "id": "dGaFDYhAq10-",
        "colab_type": "text"
      },
      "source": [
        "# LSTM"
      ]
    },
    {
      "cell_type": "code",
      "metadata": {
        "id": "1I0_tVBaq5Xp",
        "colab_type": "code",
        "outputId": "a3a06bdf-6aed-4c5c-cf41-9cb5d3f91676",
        "colab": {
          "base_uri": "https://localhost:8080/",
          "height": 530
        }
      },
      "source": [
        "import numpy as np\n",
        "from keras.datasets import imdb\n",
        "from keras.models import Sequential\n",
        "from keras.layers import Dense\n",
        "from keras.layers import LSTM\n",
        "from keras.layers.embeddings import Embedding\n",
        "from keras.preprocessing import sequence\n",
        "from collections import Counter\n",
        "import os\n",
        "import getEmbeddings\n",
        "import matplotlib.pyplot as plt\n",
        "import scikitplot.plotters as skplt\n",
        "\n",
        "\n",
        "top_words = 5000\n",
        "epoch_num = 5\n",
        "batch_size = 64\n",
        "\n",
        "def plot_cmat(yte, ypred):\n",
        "    '''Plotting confusion matrix'''\n",
        "    skplt.plot_confusion_matrix(yte, ypred)\n",
        "    plt.show()\n",
        "\n",
        "# Read the text data\n",
        "if not os.path.isfile('./xtr_shuffled.npy') or \\\n",
        "    not os.path.isfile('./xte_shuffled.npy') or \\\n",
        "    not os.path.isfile('./ytr_shuffled.npy') or \\\n",
        "    not os.path.isfile('./yte_shuffled.npy'):\n",
        "    getEmbeddings.clean_data()\n",
        "\n",
        "\n",
        "xtr = np.load('./xtr_shuffled.npy',allow_pickle=True)\n",
        "xte = np.load('./xte_shuffled.npy',allow_pickle=True)\n",
        "y_train = np.load('./ytr_shuffled.npy',allow_pickle=True)\n",
        "y_test = np.load('./yte_shuffled.npy',allow_pickle=True)\n",
        "\n",
        "cnt = Counter()\n",
        "x_train = []\n",
        "for x in xtr:\n",
        "    x_train.append(x.split())\n",
        "    for word in x_train[-1]:\n",
        "        cnt[word] += 1  \n",
        "\n",
        "# Storing most common words\n",
        "most_common = cnt.most_common(top_words + 1)\n",
        "word_bank = {}\n",
        "id_num = 1\n",
        "for word, freq in most_common:\n",
        "    word_bank[word] = id_num\n",
        "    id_num += 1\n",
        "\n",
        "# Encode the sentences\n",
        "for news in x_train:\n",
        "    i = 0\n",
        "    while i < len(news):\n",
        "        if news[i] in word_bank:\n",
        "            news[i] = word_bank[news[i]]\n",
        "            i += 1\n",
        "        else:\n",
        "            del news[i]\n",
        "\n",
        "y_train = list(y_train)\n",
        "y_test = list(y_test)\n",
        "\n",
        "# Delete the short news\n",
        "i = 0\n",
        "while i < len(x_train):\n",
        "    if len(x_train[i]) > 10:\n",
        "        i += 1\n",
        "    else:\n",
        "        del x_train[i]\n",
        "        del y_train[i]\n",
        "\n",
        "# Generating test data\n",
        "x_test = []\n",
        "for x in xte:\n",
        "    x_test.append(x.split())\n",
        "\n",
        "# Encode the sentences\n",
        "for news in x_test:\n",
        "    i = 0\n",
        "    while i < len(news):\n",
        "        if news[i] in word_bank:\n",
        "            news[i] = word_bank[news[i]]\n",
        "            i += 1\n",
        "        else:\n",
        "            del news[i]\n",
        "\n",
        "# Truncate and pad input sequences\n",
        "max_review_length = 500\n",
        "X_train = sequence.pad_sequences(x_train, maxlen=max_review_length)\n",
        "X_test = sequence.pad_sequences(x_test, maxlen=max_review_length)\n",
        "\n",
        "# Convert to numpy arrays\n",
        "y_train = np.array(y_train)\n",
        "y_test = np.array(y_test)\n",
        "\n",
        "# Create the model\n",
        "embedding_vecor_length = 32\n",
        "model = Sequential()\n",
        "model.add(Embedding(top_words+2, embedding_vecor_length, input_length=max_review_length))\n",
        "model.add(LSTM(100))\n",
        "model.add(Dense(1, activation='sigmoid'))\n",
        "model.compile(loss='binary_crossentropy', optimizer='adam', metrics=['accuracy'])\n",
        "print(model.summary())\n",
        "model.fit(X_train, y_train, validation_data=(X_test, y_test), epochs=epoch_num, batch_size=batch_size)\n",
        "\n",
        "# Final evaluation of the model\n",
        "scores = model.evaluate(X_test, y_test, verbose=0)\n",
        "print(\"Accuracy= %.2f%%\" % (scores[1]*100))"
      ],
      "execution_count": 0,
      "outputs": [
        {
          "output_type": "stream",
          "text": [
            "WARNING:tensorflow:From /usr/local/lib/python3.6/dist-packages/keras/backend/tensorflow_backend.py:4432: The name tf.random_uniform is deprecated. Please use tf.random.uniform instead.\n",
            "\n",
            "Model: \"sequential_2\"\n",
            "_________________________________________________________________\n",
            "Layer (type)                 Output Shape              Param #   \n",
            "=================================================================\n",
            "embedding_1 (Embedding)      (None, 500, 32)           160064    \n",
            "_________________________________________________________________\n",
            "lstm_1 (LSTM)                (None, 100)               53200     \n",
            "_________________________________________________________________\n",
            "dense_5 (Dense)              (None, 1)                 101       \n",
            "=================================================================\n",
            "Total params: 213,365\n",
            "Trainable params: 213,365\n",
            "Non-trainable params: 0\n",
            "_________________________________________________________________\n",
            "None\n",
            "Train on 16023 samples, validate on 4153 samples\n",
            "Epoch 1/5\n",
            "16023/16023 [==============================] - 215s 13ms/step - loss: 0.3095 - acc: 0.8658 - val_loss: 0.1981 - val_acc: 0.9314\n",
            "Epoch 2/5\n",
            "16023/16023 [==============================] - 213s 13ms/step - loss: 0.1616 - acc: 0.9493 - val_loss: 0.2484 - val_acc: 0.9066\n",
            "Epoch 3/5\n",
            "16023/16023 [==============================] - 212s 13ms/step - loss: 0.1630 - acc: 0.9435 - val_loss: 0.1762 - val_acc: 0.9333\n",
            "Epoch 4/5\n",
            "16023/16023 [==============================] - 207s 13ms/step - loss: 0.0900 - acc: 0.9711 - val_loss: 0.1544 - val_acc: 0.9555\n",
            "Epoch 5/5\n",
            "16023/16023 [==============================] - 208s 13ms/step - loss: 0.0617 - acc: 0.9811 - val_loss: 0.1526 - val_acc: 0.9526\n",
            "Accuracy= 95.26%\n"
          ],
          "name": "stdout"
        }
      ]
    },
    {
      "cell_type": "code",
      "metadata": {
        "id": "Ffk_jYuPrLeF",
        "colab_type": "code",
        "outputId": "f1c547d3-f0f8-4eb6-f124-10159932353a",
        "colab": {
          "base_uri": "https://localhost:8080/",
          "height": 349
        }
      },
      "source": [
        "# Draw the confusion matrix\n",
        "y_pred = model.predict_classes(X_test)\n",
        "plot_cmat(y_test, y_pred)"
      ],
      "execution_count": 0,
      "outputs": [
        {
          "output_type": "stream",
          "text": [
            "/usr/local/lib/python3.6/dist-packages/sklearn/utils/deprecation.py:87: FutureWarning: Function plot_confusion_matrix is deprecated; This will be removed in v0.4.0. Please use scikitplot.metrics.plot_confusion_matrix instead.\n",
            "  warnings.warn(msg, category=FutureWarning)\n"
          ],
          "name": "stderr"
        },
        {
          "output_type": "display_data",
          "data": {
            "image/png": "[encoded data removed]",
            "text/plain": [
              "<Figure size 432x288 with 2 Axes>"
            ]
          },
          "metadata": {
            "tags": []
          }
        }
      ]
    },
    {
      "cell_type": "code",
      "metadata": {
        "id": "ZG-hP-Eg1CSP",
        "colab_type": "code",
        "outputId": "dbd4bf8f-3c62-40ab-c8b4-b8119dac3bcc",
        "colab": {
          "base_uri": "https://localhost:8080/",
          "height": 422
        }
      },
      "source": [
        "from keras.utils.vis_utils import plot_model\n",
        "plot_model(model, to_file='model2.png',show_shapes=True)"
      ],
      "execution_count": 0,
      "outputs": [
        {
          "output_type": "execute_result",
          "data": {
            "image/png": "[encoded data removed]",
            "text/plain": [
              "<IPython.core.display.Image object>"
            ]
          },
          "metadata": {
            "tags": []
          },
          "execution_count": 23
        }
      ]
    },
    {
      "cell_type": "markdown",
      "metadata": {
        "id": "hiJUGPLu9M0_",
        "colab_type": "text"
      },
      "source": [
        "# BERT"
      ]
    }
  ]
}